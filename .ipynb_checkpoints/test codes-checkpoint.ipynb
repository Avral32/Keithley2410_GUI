{
 "cells": [
  {
   "cell_type": "code",
   "execution_count": 122,
   "id": "6d926217",
   "metadata": {},
   "outputs": [
    {
     "data": {
      "text/plain": [
       "<Figure size 432x288 with 0 Axes>"
      ]
     },
     "metadata": {},
     "output_type": "display_data"
    }
   ],
   "source": [
    "import time \n",
    "import itertools\n",
    "import matplotlib.pyplot as plt\n",
    "import numpy as np\n",
    "import datetime as dt\n",
    "from timeit import default_timer as timer\n",
    "import matplotlib.animation as animation\n",
    "\n",
    "start = time.time()\n",
    "count = 0\n",
    "\n",
    "#fig = plt.figure()\n",
    "#ax = fig.add_subplot(1, 1, 1)\n",
    "\n",
    "x_axis = []\n",
    "y_axis = []\n",
    "\n",
    "\n",
    "#t = (time.time() - start) % 5\n",
    "\n",
    "def animate(i):\n",
    "    \n",
    "    global count \n",
    "    count += 1\n",
    "    x_axis.append((time.time() - start) % 5)\n",
    "    y_axis.append(np.sin(count))\n",
    "    \n",
    "    \n",
    "    plt.cla()   # clear the plot for each iteration\n",
    "    plt.plot(x_axis, y_axis, linewidth = 1.5,label = \"Decay\")\n",
    "    \n",
    "    #ax.clear()\n",
    "    #ax.plot(x_axis, y_axis)\n",
    "    #plt.xticks(rotation=45, ha='right')\n",
    "    #plt.subplots_adjust(bottom=0.30)\n",
    "    #plt.title('TMP102 Temperature over Time')\n",
    "    #plt.ylabel('Temperature (deg C)')\n",
    " \n",
    "ani = animation.FuncAnimation(plt.gcf(), animate, interval=10)\n",
    "plt.show()"
   ]
  },
  {
   "cell_type": "code",
   "execution_count": 10,
   "id": "7b270938",
   "metadata": {},
   "outputs": [
    {
     "name": "stdout",
     "output_type": "stream",
     "text": [
      "0.0\n",
      "0.2\n",
      "2.005110263824463\n",
      "0.4\n",
      "4.010239124298096\n",
      "0.6000000000000001\n",
      "6.0097692012786865\n",
      "0.8\n",
      "8.009677171707153\n",
      "1.0\n",
      "10.001466989517212\n",
      "1.2\n",
      "12.004847764968872\n",
      "1.4\n",
      "14.009376525878906\n"
     ]
    },
    {
     "ename": "KeyboardInterrupt",
     "evalue": "",
     "output_type": "error",
     "traceback": [
      "\u001b[1;31m---------------------------------------------------------------------------\u001b[0m",
      "\u001b[1;31mKeyboardInterrupt\u001b[0m                         Traceback (most recent call last)",
      "Input \u001b[1;32mIn [10]\u001b[0m, in \u001b[0;36m<cell line: 7>\u001b[1;34m()\u001b[0m\n\u001b[0;32m     11\u001b[0m \u001b[38;5;28mprint\u001b[39m(time\u001b[38;5;241m.\u001b[39mtime() \u001b[38;5;241m-\u001b[39m start)\n\u001b[0;32m     12\u001b[0m \u001b[38;5;66;03m#sleep for a delay\u001b[39;00m\n\u001b[1;32m---> 13\u001b[0m \u001b[43mtime\u001b[49m\u001b[38;5;241;43m.\u001b[39;49m\u001b[43msleep\u001b[49m\u001b[43m(\u001b[49m\u001b[38;5;241;43m2\u001b[39;49m\u001b[43m \u001b[49m\u001b[38;5;241;43m-\u001b[39;49m\u001b[43m \u001b[49m\u001b[43m(\u001b[49m\u001b[43mtime\u001b[49m\u001b[38;5;241;43m.\u001b[39;49m\u001b[43mtime\u001b[49m\u001b[43m(\u001b[49m\u001b[43m)\u001b[49m\u001b[43m \u001b[49m\u001b[38;5;241;43m-\u001b[39;49m\u001b[43m \u001b[49m\u001b[43mstart\u001b[49m\u001b[43m)\u001b[49m\u001b[43m \u001b[49m\u001b[38;5;241;43m%\u001b[39;49m\u001b[43m \u001b[49m\u001b[38;5;241;43m2\u001b[39;49m\u001b[43m)\u001b[49m\n\u001b[0;32m     14\u001b[0m \u001b[38;5;28mprint\u001b[39m(count)\n",
      "\u001b[1;31mKeyboardInterrupt\u001b[0m: "
     ]
    }
   ],
   "source": [
    "import time\n",
    "\n",
    "global count\n",
    "count = 0\n",
    "start = time.time()\n",
    "\n",
    "while True:\n",
    "    \n",
    "    # accumilation of time in every delay\n",
    "    count += .2\n",
    "    print(time.time() - start)\n",
    "    #sleep for a delay\n",
    "    time.sleep(2 - (time.time() - start) % 2)\n",
    "    print(count)"
   ]
  },
  {
   "cell_type": "code",
   "execution_count": 9,
   "id": "2cd5005b",
   "metadata": {},
   "outputs": [
    {
     "name": "stdout",
     "output_type": "stream",
     "text": [
      "1\n"
     ]
    }
   ],
   "source": [
    "from timeit import default_timer as timer\n",
    "import time \n",
    "\n",
    "\n",
    "start = time.time()\n",
    "count = 0\n",
    "if round(time.time() - start) / 60 < 2:\n",
    "    global count \n",
    "    time.sleep(1)\n",
    "    count += 1\n",
    "    time.sleep(1 - (time.time() - start) % 1)\n",
    "    print(count )\n",
    "\n",
    "    "
   ]
  },
  {
   "cell_type": "code",
   "execution_count": 64,
   "id": "733c65ac",
   "metadata": {},
   "outputs": [
    {
     "name": "stdout",
     "output_type": "stream",
     "text": [
      "0\n",
      "1\n",
      "2\n",
      "3\n",
      "4\n",
      "5\n",
      "6\n",
      "7\n",
      "8\n",
      "9\n",
      "10\n"
     ]
    }
   ],
   "source": [
    "C:\\Users\\TE517241\\OneDrive - TE Connectivity\\Desktop\\Drivers\\test"
   ]
  },
  {
   "cell_type": "code",
   "execution_count": 4,
   "id": "e6404afa",
   "metadata": {},
   "outputs": [],
   "source": [
    "import tkinter as Tk\n",
    "from matplotlib.backends.backend_tkagg import FigureCanvasTkAgg, NavigationToolbar2Tk\n",
    "import matplotlib.pyplot as plt\n",
    "from matplotlib import style\n",
    "import matplotlib\n",
    "matplotlib.use(\"Agg\")\n",
    "\n",
    "root = tk.Tk()\n",
    "root.title(\"Graph\")\n",
    "#root.geometry(\"800x400\")\n",
    "\n",
    "# progress label, pause and resume buttons\n",
    "frame = tk.Frame(root)\n",
    "frame.pack(fill=\"x\", side=tk.TOP)\n",
    "\n",
    "progress = tk.Label(frame)\n",
    "progress.pack(side=\"left\")\n",
    "\n",
    "is_paused = tk.BooleanVar()  # variable to hold the pause/resume state\n",
    "tk.Button(frame, text=\"Pause\", command=lambda: is_paused.set(True)).pack(side=\"right\")\n",
    "tk.Button(frame, text=\"Resume\", command=lambda: is_paused.set(False)).pack(side=\"right\")\n",
    "\n",
    "# the plot\n",
    "\n",
    "fig = plt.figure(figsize=(10, 5), dpi=100)\n",
    "\n",
    "canvas = FigureCanvasTkAgg(fig, master=root)\n",
    "toolbar = NavigationToolbar2Tk(canvas, root)\n",
    "canvas.get_tk_widget().pack(side=tk.TOP, fill=tk.BOTH, expand=1)\n",
    "\n",
    "plt.grid(\"both\")\n",
    "style.use(\"ggplot\")\n",
    "\n",
    "a = 1\n",
    "ax1 = plt.subplot(111)\n",
    "line1, = ax1.plot([0], [0])\n",
    "step = 0.1\n",
    "def func_A(a, x, step):\n",
    "    import numpy\n",
    "    data_x = numpy.arange(0, x, step)\n",
    "    #print(data_x)\n",
    "    data_y = a * numpy.sin(data_x/5)\n",
    "    return data_x, data_y\n",
    "\n",
    "# function to update ploat\n",
    "def update_plot(k=0):\n",
    "    if not is_paused.get():\n",
    "        #progress[\"text\"] = f\"iteration: {k}\"\n",
    "\n",
    "        data_x, data_y = func_A(a, k, step)\n",
    "        #print(\"iteration\", k)\n",
    "        #print(\"data_x\", data_x)\n",
    "        #print(\"data_y\", data_y)\n",
    "\n",
    "        line1.set_xdata(data_x)\n",
    "        line1.set_ydata(data_y)\n",
    "\n",
    "        ax1.set_ylim([-1, 1])\n",
    "        ax1.set_xlim([0, 1000])\n",
    "        plt.grid(\"both\")\n",
    "        canvas.draw()\n",
    "        canvas.flush_events()\n",
    "        k += 1\n",
    "    if k <= 100:\n",
    "        # update plot again after 10ms. You can change the delay to whatever you want\n",
    "        root.after(10, update_plot, k)\n",
    "\n",
    "update_plot() # start updating plot\n",
    "root.mainloop()"
   ]
  },
  {
   "cell_type": "code",
   "execution_count": 6,
   "id": "cc3b32e6",
   "metadata": {
    "scrolled": true
   },
   "outputs": [
    {
     "name": "stdout",
     "output_type": "stream",
     "text": [
      "[ 1  2  3  4  5  6  7  8  9 10]\n"
     ]
    }
   ],
   "source": [
    "import numpy as np\n",
    "import time\n",
    "\n",
    "x = np.arange(1,11,1)\n",
    "print(x)\n"
   ]
  },
  {
   "cell_type": "code",
   "execution_count": 23,
   "id": "0af9d975",
   "metadata": {},
   "outputs": [],
   "source": [
    "import tkinter as tk\n",
    "from matplotlib import pyplot as plt\n",
    "import matplotlib.animation as animation\n",
    "from matplotlib.backends.backend_tkagg import FigureCanvasTkAgg\n",
    "import numpy as np\n",
    "\n",
    "class Window:\n",
    "\n",
    "    def __init__(self,master):\n",
    "        frame = Tk.Frame(master)\n",
    "\n",
    "        self.fig = plt.figure(figsize=(14, 4.5), dpi=100)\n",
    "\n",
    "        self.ax = self.fig.add_subplot(1,1,1)\n",
    "        self.ax.set_ylim(0, 100)\n",
    "        self.line, = self.ax.plot(data_x, data_y)\n",
    "\n",
    "        self.canvas = FigureCanvasTkAgg(self.fig, master=root) # a tk. Drawing area\n",
    "        self.canvas.get_tk_widget().place(x=10, y=10, width= 600, height=400)\n",
    "        self.canvas.draw()\n",
    "        self.canvas.flush_events()\n",
    "        #self.canvas = FigureCanvasTkAgg(self.fig, master=master)\n",
    "        #self.canvas.draw()\n",
    "        #self.canvas.get_tk_widget().pack(side='top', fill='both', expand=1)\n",
    "        #frame.pack()\n",
    "\n",
    "       \n",
    "        #self.canvas.flush_events()\n",
    "        \n",
    "    def func_A(self, x):\n",
    "        \n",
    "        data_x = np.arange(0, x)\n",
    "        data_y = np.sin(data_x/5)\n",
    "        return data_x, data_y\n",
    "    \n",
    "    \n",
    "    def plot(self, k=0):\n",
    "        #k  = 0\n",
    "       \n",
    "            \n",
    "        data_x, data_y = func_A(k)\n",
    "        data_x.append(data_x)\n",
    "        data_y.append(data_y)\n",
    "        self.line.set_data(data_x)\n",
    "        self.line.set_data(data_y)\n",
    "        k += 1\n",
    "        if k <=10:\n",
    "            self.after(1000, self.plot, k)\n",
    "            \n",
    "    #def animate(self,i):\n",
    "        #yar.append(99-i)\n",
    "        #xar.append(i)\n",
    "        #self.line.set_data(xar, yar)\n",
    "        #self.ax.set_xlim(0, i+1)\n",
    "\n",
    "data_x = []\n",
    "data_y = []\n",
    "\n",
    "root = tk.Tk()\n",
    "app = Window(root)\n",
    "#ani = animation.FuncAnimation(app.fig, app.animate, interval=1000, blit=False)\n",
    "\n",
    "root.mainloop()"
   ]
  }
 ],
 "metadata": {
  "kernelspec": {
   "display_name": "Python 3 (ipykernel)",
   "language": "python",
   "name": "python3"
  },
  "language_info": {
   "codemirror_mode": {
    "name": "ipython",
    "version": 3
   },
   "file_extension": ".py",
   "mimetype": "text/x-python",
   "name": "python",
   "nbconvert_exporter": "python",
   "pygments_lexer": "ipython3",
   "version": "3.10.5"
  },
  "widgets": {
   "application/vnd.jupyter.widget-state+json": {
    "state": {},
    "version_major": 2,
    "version_minor": 0
   }
  }
 },
 "nbformat": 4,
 "nbformat_minor": 5
}

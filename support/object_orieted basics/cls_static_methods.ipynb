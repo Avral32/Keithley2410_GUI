{
 "cells": [
  {
   "cell_type": "markdown",
   "metadata": {},
   "source": [
    "**Classmethod & staticmethod**"
   ]
  },
  {
   "cell_type": "markdown",
   "metadata": {},
   "source": [
    "In this section, we will learn about the **static method** and **class method**"
   ]
  },
  {
   "cell_type": "code",
   "execution_count": 28,
   "metadata": {
    "tags": [
     "#A"
    ]
   },
   "outputs": [
    {
     "name": "stdout",
     "output_type": "stream",
     "text": [
      "Sad Sikei 68250\n"
     ]
    }
   ],
   "source": [
    "\n",
    "class Employee:\n",
    "    # define two class variables\n",
    "    num_empl = 0\n",
    "    raise_amt = 1.05\n",
    "    \n",
    "    def __init__(self, first, last, pay):\n",
    "\n",
    "        self.first = first \n",
    "        self.last = last\n",
    "        self.pay = int(pay)\n",
    "        \n",
    "        Employee.num_empl += 1\n",
    "        \n",
    "    # in a regular method in class which takes the\n",
    "    # \"self\" instance as an argument\n",
    "    \n",
    "    def full_name(self):\n",
    "        return \"{} {}\".format(self.first, self.last)\n",
    "    \n",
    "    def apply_raise(self):\n",
    "    \n",
    "        return int(self.pay * self.raise_amt)\n",
    "    \n",
    "# Let's make an instance for our base class\n",
    "empl = Employee(\"Sad\", \"Sikei\", 65000)\n",
    "print(empl.full_name(), empl.apply_raise())"
   ]
  },
  {
   "cell_type": "markdown",
   "metadata": {},
   "source": [
    "**Section 2 @Class method**"
   ]
  },
  {
   "cell_type": "code",
   "execution_count": null,
   "metadata": {},
   "outputs": [],
   "source": [
    "By convention, class method uses the decrotor \"@classmethod\" and takes the \"cls\" as \n",
    "the first argument instead of the instance variable \"self\" in regular method. It passes \"cls\" as the first \n",
    "argument and additonal arguments for the class method. Basically the class method changes the value of the \n",
    "class variable \"raise_amt\" defined in the base \"Employee\" class with the new argument amount."
   ]
  },
  {
   "cell_type": "markdown",
   "metadata": {},
   "source": [
    "For clarity regarding the **@classmethod**, we split the classmethod in an another cell \n",
    "from the baseclass, in order to call the **classmethod**, which depends on the base class.\n",
    "we have to call **Employee** superclass in cell where we define the **classmethod**. Otherwise, we have attribute issue in the jupyter. "
   ]
  },
  {
   "cell_type": "code",
   "execution_count": 32,
   "metadata": {
    "tags": [
     "#B",
     "=>A"
    ]
   },
   "outputs": [
    {
     "name": "stdout",
     "output_type": "stream",
     "text": [
      "Jahn Smith is getting 66950\n",
      "John Kasiis gettting 57680\n"
     ]
    }
   ],
   "source": [
    "class Employee(Employee):\n",
    "    \n",
    "    @classmethod\n",
    "    def set_raise_amt(cls, amount):\n",
    "        cls.raise_amt = amount\n",
    "\n",
    "    \n",
    "    # Now we add a new functionality to the class that parse \n",
    "    # names and payment of employees separated by hyphens\"-\", i.e. smith-Jahn-60000\n",
    "    @classmethod\n",
    "    def split_str(cls, empl_str):\n",
    "        first, last, pay = empl_str.split(\"-\")\n",
    "        # the split string can be an imput arguments for your base class\n",
    "        return cls(first, last, pay)\n",
    "        \n",
    "empl = Employee(\"Jahn\", \"Smith\", 65000)\n",
    "Employee.set_raise_amt(1.03)\n",
    "print(empl.full_name() + \" is getting \" + str(empl.apply_raise()))\n",
    "# make an instance of split_str\n",
    "empl_2 = Employee.split_str(\"John-Kasi-56000\")\n",
    "print(empl_2.full_name() + \"is gettting\",  empl_2.apply_raise())"
   ]
  },
  {
   "cell_type": "markdown",
   "metadata": {},
   "source": [
    "**Section 3 @Static method**"
   ]
  },
  {
   "cell_type": "markdown",
   "metadata": {},
   "source": [
    "In this part, we will learn about the **staticmehod**, which *Does* not pass any instance arguments like **self** or **cls** and has a decrotor **@staticmethod**. It behaves just like a regular function, and has its own arguments. But It has some connection with the base class as it is used to extend the functionality of the base class, as will be shown in the following."
   ]
  },
  {
   "cell_type": "code",
   "execution_count": 20,
   "metadata": {},
   "outputs": [
    {
     "data": {
      "text/plain": [
       "True"
      ]
     },
     "execution_count": 20,
     "metadata": {},
     "output_type": "execute_result"
    }
   ],
   "source": [
    "    \n",
    "import datetime\n",
    "\n",
    "class Employee(Employee):\n",
    "    \n",
    "    @staticmethod\n",
    "    def is_workday(day):\n",
    "        if day.weekday == 5 or day.weekday == 6:\n",
    "            return False\n",
    "        # if false, then it is weekday\n",
    "        return True\n",
    "\n",
    "# make an instance to our staticmethod\n",
    "empl = Employee(\"Sad\", \"Sikei\", 65000)\n",
    "some_date = datetime.date(2012,12,12)\n",
    "#empl.is_workday(some_date)\n",
    "#sometimes it is mote direct to call the static method with the base class\n",
    "#instead of using the instance:\n",
    "Employee.is_workday(some_date)"
   ]
  }
 ],
 "metadata": {
  "kernelspec": {
   "display_name": "Python 3",
   "language": "python",
   "name": "python3"
  },
  "language_info": {
   "codemirror_mode": {
    "name": "ipython",
    "version": 3
   },
   "file_extension": ".py",
   "mimetype": "text/x-python",
   "name": "python",
   "nbconvert_exporter": "python",
   "pygments_lexer": "ipython3",
   "version": "3.7.6"
  }
 },
 "nbformat": 4,
 "nbformat_minor": 4
}

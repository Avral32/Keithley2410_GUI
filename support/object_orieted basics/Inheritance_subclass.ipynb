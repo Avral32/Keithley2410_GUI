{
 "cells": [
  {
   "cell_type": "markdown",
   "metadata": {},
   "source": [
    "**Inheritance and subclass**"
   ]
  },
  {
   "cell_type": "markdown",
   "metadata": {},
   "source": [
    "In this section, we will learn about how to inherit the methods of **parent** class in the subclass\n",
    "as well as try to call the **static method** defined in base class in the subclasses."
   ]
  },
  {
   "cell_type": "code",
   "execution_count": 16,
   "metadata": {},
   "outputs": [
    {
     "name": "stdout",
     "output_type": "stream",
     "text": [
      "I am going to something great!\n"
     ]
    }
   ],
   "source": [
    "class Employee:\n",
    "    num_empl = 0\n",
    "    raise_amt = 1.05\n",
    "    \n",
    "    def __init__(self, first, last, pay):\n",
    "\n",
    "        self.first = first \n",
    "        self.last = last\n",
    "        self.pay = int(pay)\n",
    "        \n",
    "        Employee.num_empl += 1\n",
    "        \n",
    "    def full_name(self):\n",
    "        return \"{} {}\".format(self.first, self.last)\n",
    "    \n",
    "    def apply_raise(self):\n",
    "        return int(self.pay * self.raise_amt)\n",
    "    \n",
    "    # define a static method\n",
    "    @staticmethod\n",
    "    def anything(strings):\n",
    "        print(strings)\n",
    "    \n",
    "empl = Employee(\"Sad\", \"Sikei\", 65000)\n",
    "empl.anything(\"I am going to something great!\")"
   ]
  },
  {
   "cell_type": "markdown",
   "metadata": {},
   "source": [
    "In the next, a subclass **developer** inherits all functionalities of parent class **Employee** by using the \n",
    "base class as an argument, in order to get some info regarding the functionalities of subclass, we can use print(help(developer))\n"
   ]
  },
  {
   "cell_type": "code",
   "execution_count": 22,
   "metadata": {},
   "outputs": [
    {
     "name": "stdout",
     "output_type": "stream",
     "text": [
      "Smit Sali likes programming in Python\n"
     ]
    }
   ],
   "source": [
    "class Developer(Employee):\n",
    "   \n",
    "    raise_amt = 1.10\n",
    "    def __init__(self, first, last, pay, prog):\n",
    "        super().__init__(first, last, pay)\n",
    "        # or Employee.__init__(self, first, last, pay)\n",
    "        self.prog = prog\n",
    "    \n",
    "    def program(self):\n",
    "        \n",
    "        print(self.full_name(), \"likes programming in\", self.prog)\n",
    "\n",
    "    \n",
    "# make an instance\n",
    "empl = Developer(\"Smit\", \"Sali\", 65000, \"Python\")\n",
    "empl.program()\n"
   ]
  },
  {
   "cell_type": "markdown",
   "metadata": {},
   "source": [
    "in the next, we create a subclass called  **manager** that possesses some functionalites\n",
    "other than developer has."
   ]
  },
  {
   "cell_type": "code",
   "execution_count": 28,
   "metadata": {},
   "outputs": [
    {
     "name": "stdout",
     "output_type": "stream",
     "text": [
      "--> Smit Sali\n",
      "is allowd to implement any idea he/she thinks of.\n",
      "Lanh Nik None\n"
     ]
    }
   ],
   "source": [
    "class Manager(Employee):\n",
    "   \n",
    "    \n",
    "    def __init__(self, first, last, pay, employees = None):\n",
    "        super().__init__(first, last, pay)\n",
    "        \n",
    "        if employees is None:\n",
    "            self.employees = []\n",
    "        else:\n",
    "            self.employees = employees\n",
    "            \n",
    "    # if employee is not in the list, add them to it\n",
    "    def add_empl(self, empl):\n",
    "        if empl not in self.employees:\n",
    "            self.employees.append(empl)\n",
    "    \n",
    "    def remove_empl(self, empl):\n",
    "        if empl in self.employees:\n",
    "            self.employees.remove(empl)\n",
    "    \n",
    "    def show_empl(self):\n",
    "        for empl in self.employees:\n",
    "            \n",
    "            print(\"-->\", empl.full_name())\n",
    "            # call the staticmethod using super().\n",
    "            super().anything(\"is allowd to implement any idea he/she thinks of.\")\n",
    "            \n",
    "            \n",
    "            \n",
    "dev_1 = Developer(\"Smit\", \"Sali\", 65000, \"Python\")\n",
    "dev_2 = Developer(\"Smith\", \"Jahn\", 75000, \"C++\")\n",
    "\n",
    "mgr_1 = Manager(\"Lanh\", \"Nik\", \"85000\", [dev_1])\n",
    "\n",
    "#mgr_1.remove_empl(dev_1)\n",
    "#mgr_1.show_empl()\n"
   ]
  },
  {
   "cell_type": "markdown",
   "metadata": {},
   "source": [
    "Here we call the method **anything()** defined in the base class using **@staticmethod**. This static function can be \n",
    "called in the subclass **Manager**, which gives addtional functionality to the subclass as well. In order to call the **staticmmethod**\n",
    "in the subclass, we have to add `super().staticmethod()`, as shown in the cell above. e.g. `super().anything()`. Then it works fine.\n"
   ]
  },
  {
   "cell_type": "code",
   "execution_count": 29,
   "metadata": {},
   "outputs": [
    {
     "name": "stdout",
     "output_type": "stream",
     "text": [
      "--> Smit Sali\n",
      "is allowd to implement any idea he/she thinks of.\n",
      "Lanh Nik None\n"
     ]
    }
   ],
   "source": [
    "print(mgr_1.full_name(), mgr_1.show_empl()) "
   ]
  },
  {
   "cell_type": "markdown",
   "metadata": {},
   "source": [
    "Python comes in with some useful built-in functions like **isinstance**, **issubclass** to check \n",
    "the inheritance of the subclasses."
   ]
  },
  {
   "cell_type": "code",
   "execution_count": 68,
   "metadata": {},
   "outputs": [
    {
     "name": "stdout",
     "output_type": "stream",
     "text": [
      "True True True False\n",
      "True False\n"
     ]
    }
   ],
   "source": [
    "print(isinstance(mgr_1, Manager), isinstance(mgr_1, Employee), isinstance(dev_1, Developer), isinstance(mgr_1, Developer))\n",
    "# or\n",
    "print(issubclass(Developer, Employee), issubclass(Manager, Developer))"
   ]
  },
  {
   "cell_type": "markdown",
   "metadata": {},
   "source": [
    "In addition, one can check the **attributes** and **instances** of a class object using following:"
   ]
  },
  {
   "cell_type": "code",
   "execution_count": 89,
   "metadata": {},
   "outputs": [],
   "source": [
    "mgr_obj = Manager(\"Lanh\", \"Nik\", 85000)\n",
    "\n",
    "#print(mgr_obj.__dict__)\n",
    "\n",
    "#for attr in dir(mgr_obj):\n",
    "    #print(attr, getattr(mgr_obj, attr))"
   ]
  }
 ],
 "metadata": {
  "kernelspec": {
   "display_name": "Python 3",
   "language": "python",
   "name": "python3"
  },
  "language_info": {
   "codemirror_mode": {
    "name": "ipython",
    "version": 3
   },
   "file_extension": ".py",
   "mimetype": "text/x-python",
   "name": "python",
   "nbconvert_exporter": "python",
   "pygments_lexer": "ipython3",
   "version": "3.7.6"
  }
 },
 "nbformat": 4,
 "nbformat_minor": 4
}

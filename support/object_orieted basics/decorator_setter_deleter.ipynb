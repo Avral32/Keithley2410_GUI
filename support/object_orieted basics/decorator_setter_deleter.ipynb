{
 "cells": [
  {
   "cell_type": "markdown",
   "metadata": {},
   "source": [
    "In this section, we will learn about how to use **decorators**, **Getters**, **Setters**, and **Deleters** in the class."
   ]
  },
  {
   "cell_type": "markdown",
   "metadata": {},
   "source": [
    "In a class, by adding **@property** to a method, we could make \n",
    "an instance from that method **without any arguments** just like an atribute. For example, we can call the *email()* \n",
    "method using the **Property** decorator like an atribute **email**."
   ]
  },
  {
   "cell_type": "code",
   "execution_count": 31,
   "metadata": {},
   "outputs": [
    {
     "name": "stdout",
     "output_type": "stream",
     "text": [
      "Please send my email: Sad.Sikei@gmail.com to Jahn Smith\n"
     ]
    }
   ],
   "source": [
    "class Employee:\n",
    "    \n",
    "    \n",
    "    def __init__(self, first, last, pay):\n",
    "\n",
    "        self.first = first \n",
    "        self.last = last\n",
    "        self.pay = pay\n",
    "        \n",
    "    @property\n",
    "    def email(self):\n",
    "        return \"{}.{}@gmail.com\".format(self.first, self.last)\n",
    "    \n",
    "     \n",
    "    @property\n",
    "    def full_name(self):\n",
    "        return \"{} {}\".format(self.first, self.last)\n",
    "    \n",
    "    # setter\n",
    "    @full_name.setter\n",
    "    def full_name(self, name):\n",
    "        first, last = name.split(\" \")\n",
    "        self.first = first\n",
    "        self.last = last\n",
    "    \n",
    "    # deleter\n",
    "    @full_name.deleter\n",
    "    def full_name(self):\n",
    "        print(\"The name is deleted!\")\n",
    "        self.first = None\n",
    "        self.last = None\n",
    "        \n",
    "    \n",
    "    # special method __repr__()\n",
    "    def __repr__(self):\n",
    "        return 'Employee(\"{}\", \"{}\", {})'.format(self.first, self.last, self.pay)\n",
    "    \n",
    "    # special method\n",
    "    def __str__(self):\n",
    "        return  \"{}.{}\".format(self.full_name, self.email)\n",
    "    \n",
    "    \n",
    "empl = Employee(\"Sad\", \"Sikei\", 50000)\n",
    "empl_2 = Employee(\"Jahn\", \"Smith\", 50000)\n",
    "print(\"Please send my email:\", empl.email, \"to\", empl_2.full_name) "
   ]
  },
  {
   "cell_type": "markdown",
   "metadata": {},
   "source": [
    "In **Setter**, we can assign a new argument to the *calss attributes*. For example, if we want to change \n",
    "the fullname of the emp1_2 by directly assigning *empl_2.full_name = \"Hohn Jimmy\"*, it throughs an AttributeError: \"can't set attribute\"."
   ]
  },
  {
   "cell_type": "code",
   "execution_count": null,
   "metadata": {},
   "outputs": [],
   "source": [
    "empl_2.full_name = \"Hohn Jimmy\"\n",
    "print(\"Please send my email:\", empl.email, \"to\", empl_2.full_name)"
   ]
  },
  {
   "cell_type": "markdown",
   "metadata": {},
   "source": [
    "In **Deleter**, we can delete the attributes of the calss object."
   ]
  },
  {
   "cell_type": "code",
   "execution_count": 45,
   "metadata": {},
   "outputs": [
    {
     "name": "stdout",
     "output_type": "stream",
     "text": [
      "The name is deleted!\n",
      "None None\n"
     ]
    }
   ],
   "source": [
    "del empl_2.full_name\n",
    "print(empl_2.full_name)"
   ]
  },
  {
   "cell_type": "markdown",
   "metadata": {},
   "source": [
    "In Addition to that, the special methods described with double under scores `__init__`\n",
    "are very important in the object oriented programming."
   ]
  },
  {
   "cell_type": "markdown",
   "metadata": {},
   "source": [
    "`__repr__` and `__str__` are the most commonly used special methodms in python object oriented programing."
   ]
  },
  {
   "cell_type": "markdown",
   "metadata": {},
   "source": [
    "`__repr__` is a special method used to represent a class's object\n",
    "as a string. `__repr__` is called by the `repr()` built-in function.\n",
    "One can define your own string represention of your class objects\n",
    "using the `__repr__` method. **Syntax:** `object.__repr__(self)`. "
   ]
  },
  {
   "cell_type": "code",
   "execution_count": 23,
   "metadata": {},
   "outputs": [
    {
     "name": "stdout",
     "output_type": "stream",
     "text": [
      "This is a class object type:  <class '__main__.Employee'>\n",
      "Employee(\"Sad\", \"Sikei\", 50000)\n",
      "This is a string representation of the class object -- empl: <class 'str'>\n"
     ]
    }
   ],
   "source": [
    "empl = Employee(\"Sad\", \"Sikei\", 50000)\n",
    "print(\"This is a class object type: \", type(empl))\n",
    "print(repr(empl))\n",
    "#or\n",
    "print(\"This is a string representation of the class object -- empl:\", type(empl.__repr__()))"
   ]
  },
  {
   "cell_type": "markdown",
   "metadata": {},
   "source": [
    "`__str__` is used for converting an object as a string, which makes the object more human-readable for end-users."
   ]
  },
  {
   "cell_type": "code",
   "execution_count": 32,
   "metadata": {},
   "outputs": [
    {
     "name": "stdout",
     "output_type": "stream",
     "text": [
      "Sad Sikei.Sad.Sikei@gmail.com\n"
     ]
    }
   ],
   "source": [
    "empl = Employee(\"Sad\", \"Sikei\", 50000)\n",
    "print(str(empl))"
   ]
  },
  {
   "cell_type": "markdown",
   "metadata": {},
   "source": [
    "In addition to that, there are more about the **special methods** in Python. [Special Methods](https://www.informit.com/articles/article.aspx?p=453682&seqNum=6)"
   ]
  }
 ],
 "metadata": {
  "kernelspec": {
   "display_name": "Python 3",
   "language": "python",
   "name": "python3"
  },
  "language_info": {
   "codemirror_mode": {
    "name": "ipython",
    "version": 3
   },
   "file_extension": ".py",
   "mimetype": "text/x-python",
   "name": "python",
   "nbconvert_exporter": "python",
   "pygments_lexer": "ipython3",
   "version": "3.7.6"
  }
 },
 "nbformat": 4,
 "nbformat_minor": 4
}
